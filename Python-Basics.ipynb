{
 "cells": [
  {
   "cell_type": "code",
   "execution_count": null,
   "metadata": {
    "collapsed": true
   },
   "outputs": [],
   "source": [
    "############# -------------------------- Python Basics ------------------------------------------ #################"
   ]
  },
  {
   "cell_type": "code",
   "execution_count": 30,
   "metadata": {
    "collapsed": true
   },
   "outputs": [],
   "source": [
    "    ############## ------------Types of methods to run Python------------------###############\n",
    "\n",
    "\n",
    "# Immediate mode - cmd- python\n",
    "#Script mode - python file.py\n",
    "#IDE - Integrated Developement environment- spyder, pycharm, jupyter notebook   "
   ]
  },
  {
   "cell_type": "code",
   "execution_count": 17,
   "metadata": {},
   "outputs": [
    {
     "data": {
      "text/plain": [
       "' Multiple line comment '"
      ]
     },
     "execution_count": 17,
     "metadata": {},
     "output_type": "execute_result"
    }
   ],
   "source": [
    "#single line Comment\n",
    "\n",
    "\"\"\" Multiple line comment \"\"\"\n",
    "#print(\"Hi\")\n"
   ]
  },
  {
   "cell_type": "code",
   "execution_count": 20,
   "metadata": {},
   "outputs": [
    {
     "name": "stdout",
     "output_type": "stream",
     "text": [
      "4\n",
      "34\n"
     ]
    }
   ],
   "source": [
    "#Keywords\n",
    "\n",
    "#break = 2\n",
    "\n",
    "#Identifiers\n",
    "\n",
    "#Identifier is a name given to entities like class, functions, variables\n",
    "a = 4\n",
    "\n",
    "a1 = 34\n",
    "\n",
    "# 1. can be in alphabet with range of a to z\n",
    "# 2. can be in range of A to Z\n",
    "# 3. should not start with digits\n",
    "# 4. should not be keywords\n",
    "# 5. cannot use special symbols !,@,#,$,%\n",
    "#global = 5 \n",
    "\n",
    "#a$ = 7\n",
    "\n",
    "print(a)\n",
    "print(a1)"
   ]
  },
  {
   "cell_type": "code",
   "execution_count": 21,
   "metadata": {},
   "outputs": [
    {
     "name": "stdout",
     "output_type": "stream",
     "text": [
      "23\n",
      "30\n",
      "54 43 42\n",
      "2 4.2 Hello\n",
      "same data same data same data\n"
     ]
    }
   ],
   "source": [
    "#Statements\n",
    "\n",
    "a = 1 #assigngment statement\n",
    "\n",
    "\n",
    "#Multiple Statement\n",
    "a = 1 + 2 +3 + 4 + \\\n",
    "    2 + 4 +\\\n",
    "    3 + 4\n",
    "    \n",
    "print(a)\n",
    "\n",
    "a = (2 + 5 + 3 + 3 +\n",
    "     2 + 5 + 6\n",
    "     + 4)\n",
    "print(a)\n",
    "\n",
    "\n",
    "#Multiple Assigngment statement\n",
    "a = 54; b = 43; c = 42;\n",
    "\n",
    "print(a,b,c)\n",
    "\n",
    "a, b, c = 2,4.2,\"Hello\"\n",
    "\n",
    "print(a,b,c)\n",
    "\n",
    "a =b = c= \"same data\"\n",
    "\n",
    "print(a,b,c)\n",
    "\n"
   ]
  },
  {
   "cell_type": "code",
   "execution_count": 22,
   "metadata": {},
   "outputs": [
    {
     "data": {
      "text/plain": [
       "float"
      ]
     },
     "execution_count": 22,
     "metadata": {},
     "output_type": "execute_result"
    }
   ],
   "source": [
    "a,b,c=2,3.4,\"ds\"\n",
    "\n",
    "c = 4.5\n",
    "type(c)\n"
   ]
  },
  {
   "cell_type": "code",
   "execution_count": 23,
   "metadata": {},
   "outputs": [
    {
     "name": "stdout",
     "output_type": "stream",
     "text": [
      "5\n",
      "6\n"
     ]
    }
   ],
   "source": [
    "# Case sensitive language\n",
    "\n",
    "data = 5\n",
    "Data = 6\n",
    "\n",
    "print(data)\n",
    "print(Data)\n",
    "\n",
    "\n"
   ]
  },
  {
   "cell_type": "code",
   "execution_count": 24,
   "metadata": {},
   "outputs": [
    {
     "name": "stdout",
     "output_type": "stream",
     "text": [
      "1\n",
      "Inside for loop\n",
      "2\n",
      "Inside for loop\n",
      "3\n",
      "Inside for loop\n",
      "4\n",
      "Inside for loop\n",
      "5\n",
      "Inside if loop\n",
      "Hi\n",
      "Hello\n",
      "34\n"
     ]
    }
   ],
   "source": [
    "#Indentation\n",
    "\n",
    "\n",
    "for i in range(1,11):\n",
    "    print(i)\n",
    "    if(i==5):\n",
    "        print(\"Inside if loop\")\n",
    "        break     \n",
    "    print(\"Inside for loop\")    \n",
    "    \n",
    "if True:\n",
    "    print(\"Hi\")\n",
    "        \n",
    "\n",
    "if True: print(\"Hello\"); a =34; print(a)\n",
    "    \n",
    "        \n",
    "        "
   ]
  },
  {
   "cell_type": "code",
   "execution_count": 29,
   "metadata": {},
   "outputs": [
    {
     "name": "stdout",
     "output_type": "stream",
     "text": [
      "a is of type <class 'int'>\n",
      "a is of type <class 'float'>\n",
      "a is of type <class 'str'>\n",
      "a is of type <class 'complex'>\n"
     ]
    },
    {
     "data": {
      "text/plain": [
       "True"
      ]
     },
     "execution_count": 29,
     "metadata": {},
     "output_type": "execute_result"
    }
   ],
   "source": [
    "a = 5\n",
    "print(\"a is of type\", type(a))\n",
    "\n",
    "a = 4.35\n",
    "print(\"a is of type\", type(a))\n",
    "\n",
    "a = \"Hello\"\n",
    "print(\"a is of type\", type(a))\n",
    "\n",
    "a = 1+2j\n",
    "print(\"a is of type\", type(a))\n",
    "\n",
    "isinstance(\"dcfsd\",str)\n"
   ]
  },
  {
   "cell_type": "code",
   "execution_count": null,
   "metadata": {},
   "outputs": [],
   "source": []
  },
  {
   "cell_type": "code",
   "execution_count": null,
   "metadata": {
    "collapsed": true
   },
   "outputs": [],
   "source": []
  },
  {
   "cell_type": "code",
   "execution_count": null,
   "metadata": {},
   "outputs": [],
   "source": []
  },
  {
   "cell_type": "code",
   "execution_count": null,
   "metadata": {},
   "outputs": [],
   "source": []
  },
  {
   "cell_type": "code",
   "execution_count": null,
   "metadata": {},
   "outputs": [],
   "source": []
  },
  {
   "cell_type": "code",
   "execution_count": null,
   "metadata": {},
   "outputs": [],
   "source": []
  },
  {
   "cell_type": "code",
   "execution_count": null,
   "metadata": {
    "collapsed": true
   },
   "outputs": [],
   "source": []
  }
 ],
 "metadata": {
  "kernelspec": {
   "display_name": "Python 3",
   "language": "python",
   "name": "python3"
  },
  "language_info": {
   "codemirror_mode": {
    "name": "ipython",
    "version": 3
   },
   "file_extension": ".py",
   "mimetype": "text/x-python",
   "name": "python",
   "nbconvert_exporter": "python",
   "pygments_lexer": "ipython3",
   "version": "3.6.3"
  }
 },
 "nbformat": 4,
 "nbformat_minor": 2
}
